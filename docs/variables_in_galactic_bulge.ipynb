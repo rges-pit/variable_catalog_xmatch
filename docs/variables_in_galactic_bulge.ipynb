{
 "cells": [
  {
   "cell_type": "markdown",
   "id": "e1f3b13a-17d2-4b29-af5e-3a0c95e43268",
   "metadata": {},
   "source": [
    "# Known Variable Stars in the RGES Galactic Bulge Survey Region\n",
    "\n",
    "The Roman Galactic Exoplanet Survey will intensively monitor stars in the central Galactic Bulge, and so will produce extensive timeseries photometry for not just microlensing events, but also a wide range of variable stars.  In order to accurately identify microlensing events from these data we need to develop algorithms to distinguish events from variable stars. The purpose of this work is to compile a training dataset of variable star lightcurves which can be used in the development and testing of the classification algorithm.  \n",
    "\n",
    "The first step towards building this training dataset is to compile a set of lightcurves of known variable stars identified during previous surveys of this region.  These can then be used as templates and resampled to produce realistic Roman lightcurve for the same objects.  "
   ]
  },
  {
   "cell_type": "code",
   "execution_count": 1,
   "id": "a3cb6c8d-fb4e-4f7f-9a10-3430a710fb92",
   "metadata": {},
   "outputs": [],
   "source": [
    "from os import getcwd, path\n",
    "import sys\n",
    "sys.path.append(\"..\")\n",
    "import json\n",
    "import utils"
   ]
  },
  {
   "cell_type": "code",
   "execution_count": 2,
   "id": "f0198fd6-f0d6-4987-942f-5d62048b2269",
   "metadata": {},
   "outputs": [],
   "source": [
    "DATA_DIR = path.join(getcwd(), '../data/')"
   ]
  },
  {
   "cell_type": "markdown",
   "id": "61ccdad7-ec76-4804-9393-644bb7b9b52f",
   "metadata": {},
   "source": [
    "## Identifying and cross-matching known variables within the region of interest\n",
    "\n",
    "A number of pre-existing surveys have published catalogs of known variable stars discovered within the Galactic Plane and Bulge, including the OGLE and VVV microlensing surveys. Since these are very large source catalogs, served from different platforms, it is \n",
    "most convenient to extract the subset of these catalogs pertaining to the region of interest before cross-matching the entries.  \n",
    "\n",
    "Two programs in this library query OGLE and VVV survey datasets respectively, both of which can be run from the commandline:\n",
    "\n",
    "python identify_known_ogle_variables.py path_to_output_directory\n",
    "python identify_known_vvv_variables.py path_to_output_directory\n",
    "\n",
    "Both programs search the survey data catalogs included in the data/ directory of this repository for reference.  More information on those catalogs can be found in the [data/README](https://github.com/rges-pit/variable_catalog_xmatch/blob/main/data/README.md) file.  \n",
    "\n",
    "The output of these programs are two sub-catalogs of known variables within the survey region in JSON format.\n",
    "\n",
    "**These catalogs are then cross-matched and combined into a single catalog of variables within the survey region of interest, [data/rges_variable_catalog.json](https://github.com/rges-pit/variable_catalog_xmatch/blob/main/data/rges_variable_catalog.json).**"
   ]
  },
  {
   "cell_type": "code",
   "execution_count": 3,
   "id": "5ea14741-a958-41ac-91ce-57508c4b6ccc",
   "metadata": {},
   "outputs": [
    {
     "name": "stdout",
     "output_type": "stream",
     "text": [
      "Loaded 196214 entries from catalog rges_variable_catalog.json\n"
     ]
    },
    {
     "data": {
      "text/html": [
       "<div><i>Table length=196214</i>\n",
       "<table id=\"table4592898544\" class=\"table-striped table-bordered table-condensed\">\n",
       "<thead><tr><th>Name</th><th>Type</th><th>RA</th><th>Dec</th></tr></thead>\n",
       "<thead><tr><th>str20</th><th>str16</th><th>float64</th><th>float64</th></tr></thead>\n",
       "<tr><td>OGLE-BLG-LPV-023363</td><td>lpv</td><td>265.9569166666666</td><td>-33.408722222222224</td></tr>\n",
       "<tr><td>OGLE-BLG-LPV-023560</td><td>lpv</td><td>265.97475</td><td>-33.46183333333334</td></tr>\n",
       "<tr><td>OGLE-BLG-LPV-023841</td><td>lpv</td><td>265.9956666666666</td><td>-33.544333333333334</td></tr>\n",
       "<tr><td>OGLE-BLG-LPV-023890</td><td>lpv</td><td>265.99954166666663</td><td>-33.665166666666664</td></tr>\n",
       "<tr><td>OGLE-BLG-LPV-024065</td><td>lpv</td><td>266.0117083333333</td><td>-33.53033333333333</td></tr>\n",
       "<tr><td>OGLE-BLG-LPV-024175</td><td>lpv</td><td>266.0205416666667</td><td>-33.593500000000006</td></tr>\n",
       "<tr><td>OGLE-BLG-LPV-024223</td><td>lpv</td><td>266.0242916666666</td><td>-33.47094444444445</td></tr>\n",
       "<tr><td>OGLE-BLG-LPV-024308</td><td>lpv</td><td>266.03070833333334</td><td>-33.36761111111111</td></tr>\n",
       "<tr><td>OGLE-BLG-LPV-024492</td><td>lpv</td><td>266.043875</td><td>-33.58130555555556</td></tr>\n",
       "<tr><td>...</td><td>...</td><td>...</td><td>...</td></tr>\n",
       "<tr><td>320602042078</td><td>miras</td><td>267.59869</td><td>-28.9467</td></tr>\n",
       "<tr><td>320604095711</td><td>miras</td><td>268.19709</td><td>-29.32934</td></tr>\n",
       "<tr><td>Gaia23bmq</td><td>bestar</td><td>106.029749999999</td><td>-32.42201</td></tr>\n",
       "<tr><td>Gaia23bbf</td><td>bestar</td><td>19.055699999998975</td><td>-28.25107</td></tr>\n",
       "<tr><td>Gaia22edx</td><td>bestar</td><td>89.82149999999875</td><td>-28.8941</td></tr>\n",
       "<tr><td>Gaia22bhv</td><td>bestar</td><td>68.3017499999991</td><td>-30.21468</td></tr>\n",
       "<tr><td>Gaia22bhb</td><td>bestar</td><td>80.36384999999937</td><td>-28.25515</td></tr>\n",
       "<tr><td>Gaia22ava</td><td>bestar</td><td>91.90934999999938</td><td>-27.63073</td></tr>\n",
       "<tr><td>Gaia21axh</td><td>bestar</td><td>14.796449999998911</td><td>-32.5076</td></tr>\n",
       "<tr><td>Gaia19dru</td><td>bestar</td><td>68.8772999999989</td><td>-28.71534</td></tr>\n",
       "</table></div>"
      ],
      "text/plain": [
       "<Table length=196214>\n",
       "        Name         Type          RA                 Dec        \n",
       "       str20        str16       float64             float64      \n",
       "------------------- ------ ------------------ -------------------\n",
       "OGLE-BLG-LPV-023363    lpv  265.9569166666666 -33.408722222222224\n",
       "OGLE-BLG-LPV-023560    lpv          265.97475  -33.46183333333334\n",
       "OGLE-BLG-LPV-023841    lpv  265.9956666666666 -33.544333333333334\n",
       "OGLE-BLG-LPV-023890    lpv 265.99954166666663 -33.665166666666664\n",
       "OGLE-BLG-LPV-024065    lpv  266.0117083333333  -33.53033333333333\n",
       "OGLE-BLG-LPV-024175    lpv  266.0205416666667 -33.593500000000006\n",
       "OGLE-BLG-LPV-024223    lpv  266.0242916666666  -33.47094444444445\n",
       "OGLE-BLG-LPV-024308    lpv 266.03070833333334  -33.36761111111111\n",
       "OGLE-BLG-LPV-024492    lpv         266.043875  -33.58130555555556\n",
       "                ...    ...                ...                 ...\n",
       "       320602042078  miras          267.59869            -28.9467\n",
       "       320604095711  miras          268.19709           -29.32934\n",
       "          Gaia23bmq bestar   106.029749999999           -32.42201\n",
       "          Gaia23bbf bestar 19.055699999998975           -28.25107\n",
       "          Gaia22edx bestar  89.82149999999875            -28.8941\n",
       "          Gaia22bhv bestar   68.3017499999991           -30.21468\n",
       "          Gaia22bhb bestar  80.36384999999937           -28.25515\n",
       "          Gaia22ava bestar  91.90934999999938           -27.63073\n",
       "          Gaia21axh bestar 14.796449999998911            -32.5076\n",
       "          Gaia19dru bestar   68.8772999999989           -28.71534"
      ]
     },
     "execution_count": 3,
     "metadata": {},
     "output_type": "execute_result"
    }
   ],
   "source": [
    "var_catalog_file = path.join(DATA_DIR, 'rges_variable_catalog.json')\n",
    "\n",
    "var_catalog = utils.load_json_catalog_as_table(var_catalog_file)\n",
    "var_catalog"
   ]
  },
  {
   "cell_type": "markdown",
   "id": "ea920583-f650-4dea-949a-ae891fc8927f",
   "metadata": {},
   "source": [
    "## Identifying UKIRT data on known variables\n",
    "\n",
    "The UKIRT microlensing survey observed the Galactic Bulge contemporaneously with OGLE, and produced higher cadence photometry \n",
    "in NIR passbands than VVV.  A catalog of microlensing events identified within the data was published, but no independent \n",
    "catalog of variables.  However, since the timeseries photometry of all stars in the field of view was released, we can use the input catalog of known variables produced above to identify data on variable objects.  \n",
    "\n",
    "The first step in this process is to cross-match the rges_variable_catalog.json with the UKIRT catalog to identify those stars for which photometry is available.  This is non-trival, due to the very large size of the full photometry dataset, so those data are not included in this repository but can be accessed from the NASA Exoplanet Database. This library includes the program ```identify_variables_in_UKIRT_survey.py``` which is designed to query the UKIRT timeseries dataset held separately on local disk.  \n",
    "The programs ```index_ukirt_lightcurves.py``` and ```build_ukirt_field_lut.py``` were written to accelerate the process of searching the data holdings and retrieving the appropriate lightcurves. \n",
    "\n",
    "**As a result, the data/rges_variable_catalog.json is annotated with the information necessary to retrieve the UKIRT lightcurve data, where available.**"
   ]
  },
  {
   "cell_type": "code",
   "execution_count": 4,
   "id": "43952aad-59eb-4d44-a009-4d18e37304bf",
   "metadata": {},
   "outputs": [
    {
     "name": "stdout",
     "output_type": "stream",
     "text": [
      "{'Type': 'lpv', 'RA': 267.96662499999996, 'Dec': -29.182444444444446, 'VVV_ID': None, 'VVV_type': None, 'Gaia_ID': None, 'Gaia_type': None, 'UKIRT_source_table': None, 'UKIRT_lc_files': None}\n",
      "{'Type': 'lpv', 'RA': 267.6444583333333, 'Dec': -29.33497222222222, 'VVV_ID': None, 'VVV_type': None, 'Gaia_ID': None, 'Gaia_type': None, 'UKIRT_source_table': None, 'UKIRT_lc_files': None}\n",
      "{'Type': 'lpv', 'RA': 267.78524999999996, 'Dec': -29.336222222222222, 'VVV_ID': None, 'VVV_type': None, 'Gaia_ID': None, 'Gaia_type': None, 'UKIRT_source_table': None, 'UKIRT_lc_files': None}\n"
     ]
    }
   ],
   "source": [
    "var_catalog_file = path.join(DATA_DIR, 'rges_variable_catalog.json')\n",
    "\n",
    "var_catalog = utils.load_json_catalog(var_catalog_file)\n",
    "\n",
    "# Output the catalog entries for a set of example stars known to be present in both OGLE and UKIRT\n",
    "star_list = ['OGLE-BLG-LPV-079181', 'OGLE-BLG-LPV-064575', 'OGLE-BLG-LPV-070503']\n",
    "for star_id in star_list:\n",
    "    print(var_catalog[star_id])"
   ]
  },
  {
   "cell_type": "markdown",
   "id": "7fe095b5-b326-43fa-a610-0a0e67b231f8",
   "metadata": {},
   "source": [
    "**Some statistics on the compiled catalog of variable lightcurves**\n",
    "\n",
    "Note that to date, timeseries data from the UKIRT survey is available for years 2015-2017 inclusive, but not for 2018-2020.  \n",
    "The fields included in the survey change from year to year, so the catalog is currently incomplete.  \n",
    "Nevertheless, data are available for a substantial set of stars which are likely sufficient for the current purposes. "
   ]
  },
  {
   "cell_type": "code",
   "execution_count": 7,
   "id": "381e348a-a6a4-4ed9-b03b-3b323c8554e3",
   "metadata": {},
   "outputs": [
    {
     "name": "stdout",
     "output_type": "stream",
     "text": [
      "Total number of known variables with timeseries data in at least 1 passband: 196214\n",
      "Number of known variables with timeseries data in optical and NIR passbands: 0\n",
      "Number of cephied variables in the catalog: 44\n",
      "Number of rrlyrae variables in the catalog: 15179\n",
      "Number of eclipsing_binary variables in the catalog: 164658\n",
      "Number of hb variables in the catalog: 358\n",
      "Number of delta_scuti variables in the catalog: 3868\n",
      "Number of lpv variables in the catalog: 11013\n",
      "Number of cv variables in the catalog: 44\n",
      "Number of dn variables in the catalog: 475\n",
      "Number of bestar variables in the catalog: 8\n"
     ]
    }
   ],
   "source": [
    "print('Total number of known variables with timeseries data in at least 1 passband: ' + str(len(var_catalog)))\n",
    "\n",
    "stars_ukirt_data = [star_id for star_id, star_data in var_catalog.items() if star_data['UKIRT_source_table']]\n",
    "print('Number of known variables with timeseries data in optical and NIR passbands: ' + str(len(stars_ukirt_data)))\n",
    "\n",
    "var_types = ['cephied', 'rrlyrae', 'eclipsing_binary', 'hb', 'delta_scuti', 'lpv', 'cv', 'dn', 'bestar']\n",
    "for vtype in var_types:\n",
    "    stars = [star_id for star_id, star_data in var_catalog.items() if star_data['Type'] == vtype]\n",
    "    print('Number of ' + vtype + ' variables in the catalog: ' + str(len(stars)))"
   ]
  },
  {
   "cell_type": "markdown",
   "id": "37f96f3c-3f32-4530-99ab-55d6d34ac71f",
   "metadata": {},
   "source": [
    "## Retrieving optical and NIR timeseries photometry\n",
    "\n",
    "The program compile_lightcurves.py reads in the rges_variable_catalog.json and compiles the available optical and NIR timeseries photometry from OGLE and UKIRT.  The OGLE photometry is retrieved on a per-object basis from OGLE's online server, while the UKIRT photometry is retrieved from a copy of the survey data products on local disk. \n",
    "\n",
    "**A single, combined lightcurve file is produced for each star in FITS binary table format, containing multiple table extensions, one for each lightcurve in the available passbands.**  \n",
    "\n",
    "These extensions may include one or more of OGLE (I-band), OGLE (V-band), UKIRT (H-band), UKIRT (K-band).  Note that since the UKIRT survey spanned multiple years with overlapping survey fields, multiple H and K-band lightcurves may exist for the same star.  These are included as separate table extensions, indexed numerically.  "
   ]
  },
  {
   "cell_type": "code",
   "execution_count": 5,
   "id": "84f04312-53cf-4ca4-8d82-bc66f4c10ca2",
   "metadata": {},
   "outputs": [],
   "source": [
    "LC_DIR = path.join(getcwd(), '../../multiband_lightcurves/')\n",
    "\n",
    "# Load the lightcurve data for an example star \n",
    "file_path = path.join(LC_DIR, 'OGLE-BLG-RRLYR-22182_multiband_lc.fits')\n",
    "\n",
    "header, lightcurves = utils.load_multiband_lc(file_path)"
   ]
  },
  {
   "cell_type": "markdown",
   "id": "581cb7d4-ca30-4deb-8d45-973846545a43",
   "metadata": {},
   "source": [
    "The lightcurve header contains information about the available data, and the source of the lightcurves:"
   ]
  },
  {
   "cell_type": "code",
   "execution_count": 6,
   "id": "4be2d7d9-2e86-44a3-a2b2-01ec6cfeb285",
   "metadata": {},
   "outputs": [
    {
     "name": "stdout",
     "output_type": "stream",
     "text": [
      "SIMPLE: True\n",
      "BITPIX: 8\n",
      "NAXIS: 0\n",
      "EXTEND: True\n",
      "NAME: 'OGLE-BLG-RRLYR-22182'\n",
      "RA: 263.9697499999999\n",
      "DEC: -29.734805555555557\n",
      "VARTYPE: 'rrlyrae'\n",
      "UKSRC0: 'UKIRT_year2015_field42_ccd3.json'\n",
      "NDATA_I: 898\n",
      "NDATA_V: 21\n",
      "NDATA_H0: 143\n",
      "VSOURCE: 'OGLE'\n",
      "ISOURCE: 'OGLE'\n",
      "HSOURCE: 'UKIRT'\n",
      "KSOURCE: 'UKIRT'\n",
      "UKSRC1: 'UKIRT_year2017_field43_ccd1.json'\n",
      "NDATA_H1: 74\n",
      "NDATA_K1: 13\n"
     ]
    }
   ],
   "source": [
    "for key, value in header.items():\n",
    "    print(key + ': ' + repr(value))"
   ]
  },
  {
   "cell_type": "markdown",
   "id": "64f28bff-e2e2-4fe2-982b-3713e5a30692",
   "metadata": {},
   "source": [
    "And the collated lightcurves are returned as a dictionary of Astropy Tables, with an entry for each passband:"
   ]
  },
  {
   "cell_type": "code",
   "execution_count": 7,
   "id": "6c44b1d0-937b-4a20-ac05-83a4d79bdd41",
   "metadata": {},
   "outputs": [
    {
     "name": "stdout",
     "output_type": "stream",
     "text": [
      "LC_I\n",
      "     HJD       mag   mag_error\n",
      "------------- ------ ---------\n",
      "2455288.86467  17.47     0.016\n",
      "2455293.82944  18.03     0.021\n",
      "2455294.81492 17.363     0.011\n",
      "2455296.85738 17.885     0.015\n",
      "2455298.92816 17.869     0.026\n",
      "2455301.84345  17.74     0.017\n",
      "2455306.77822 17.765     0.017\n",
      " 2455308.7952 17.782     0.016\n",
      "2455312.92902 17.779      0.02\n",
      "2455314.90351 17.979     0.023\n",
      "          ...    ...       ...\n",
      "2457972.52595 17.938     0.037\n",
      "2457972.56482 18.065     0.038\n",
      " 2457972.6192 18.006      0.03\n",
      "2457972.66691 18.084     0.033\n",
      "2457972.72221 17.888     0.027\n",
      "2457973.54133 18.047     0.038\n",
      "2457973.66637 17.597      0.02\n",
      "  2457974.531 18.019     0.021\n",
      "2457974.64683 17.496     0.015\n",
      "2457975.47643 18.044     0.031\n",
      "Length = 898 rows\n",
      "LC_V\n",
      "     HJD       mag   mag_error\n",
      "------------- ------ ---------\n",
      "2455288.84473 20.354     0.097\n",
      "2455643.84784 21.485     0.207\n",
      "2455737.68685 20.366     0.033\n",
      "2455991.88303 20.416     0.044\n",
      "2456023.88343 21.231     0.141\n",
      "2456102.61404  20.46     0.052\n",
      "2456104.64339 21.362     0.081\n",
      "2456373.82074 20.924      0.06\n",
      "2456450.72269 21.393      0.07\n",
      "2456772.84223 21.232     0.078\n",
      " 2456840.7027 20.296     0.055\n",
      "2457111.86527 21.884     0.148\n",
      "2457181.68619 21.048     0.091\n",
      "2457460.84874 21.196     0.077\n",
      "2457550.73483 20.855     0.063\n",
      "2457851.87883 20.605     0.049\n",
      "2457871.80943 20.737     0.047\n",
      "2457890.74414 20.702     0.094\n",
      "2457906.73195 21.536     0.091\n",
      "2457926.67033  20.65     0.065\n",
      "2457944.73408 21.271     0.277\n",
      "LC_H0\n",
      "     HJD       mag   mag_error\n",
      "------------- ------ ---------\n",
      "2457170.93965 15.074     0.033\n",
      "2457179.91111 14.818     0.038\n",
      "2457179.93978  14.95     0.061\n",
      "2457179.97222 14.855     0.033\n",
      "2457179.99738  14.83     0.026\n",
      " 2457180.0234 14.842     0.031\n",
      "2457180.90949 14.855     0.038\n",
      "2457180.93688 14.876     0.034\n",
      "2457180.96713 14.967     0.044\n",
      "2457180.99371 14.963     0.049\n",
      "          ...    ...       ...\n",
      "2457217.81086 14.861     0.044\n",
      "2457217.83724 14.863     0.041\n",
      "2457217.86292 14.892     0.043\n",
      "2457217.88964  14.94     0.043\n",
      "2457217.91476 14.947     0.039\n",
      "2457218.82481 14.941     0.044\n",
      "2457218.85047  15.02     0.048\n",
      "2457218.87813 15.056     0.045\n",
      " 2457218.9037 15.124     0.048\n",
      "2457218.93016 15.202      0.05\n",
      "Length = 143 rows\n",
      "LC_H1\n",
      "     HJD       mag   mag_error\n",
      "------------- ------ ---------\n",
      "2457864.04173 14.776     0.043\n",
      "2457865.03591 14.793     0.027\n",
      "2457878.03363 14.863      0.03\n",
      "2457879.00358 14.913     0.036\n",
      "2457880.01109 14.876     0.028\n",
      "2457881.00396 14.673     0.035\n",
      "2457882.98965 14.791     0.031\n",
      "2457884.00565 14.855     0.031\n",
      "2457885.02194 15.003     0.034\n",
      " 2457886.0149 14.861     0.031\n",
      "          ...    ...       ...\n",
      "2457981.77789 14.851     0.034\n",
      "2457982.77614 15.001     0.033\n",
      "2457983.76994 15.008     0.031\n",
      "2457985.81546 14.804      0.03\n",
      "2457988.75223 14.928     0.036\n",
      "2457989.75122 15.026     0.034\n",
      "2457990.75219 14.728     0.027\n",
      "2457991.75311 14.704      0.03\n",
      "2457992.75263 14.746     0.025\n",
      "2457993.79888 14.888     0.043\n",
      "Length = 74 rows\n",
      "LC_K1\n",
      "     HJD       mag   mag_error\n",
      "------------- ------ ---------\n",
      "2457882.04016 14.372     0.035\n",
      "2457887.05357 14.356     0.053\n",
      "2457894.00474 14.362      0.03\n",
      "2457903.95092 14.602     0.042\n",
      "2457920.96242 14.547     0.046\n",
      "2457925.93398 14.417     0.037\n",
      "2457930.87963 14.371      0.03\n",
      "2457935.90513 14.356     0.044\n",
      "2457947.91383 14.378     0.055\n",
      "2457952.89674 14.493     0.047\n",
      "2457957.80064 14.486     0.052\n",
      "2457967.82688 14.361     0.035\n",
      "2457979.81554  14.36     0.042\n"
     ]
    }
   ],
   "source": [
    "for lc_name, lc in lightcurves.items():\n",
    "    print(lc_name)\n",
    "    print(lc)"
   ]
  },
  {
   "cell_type": "markdown",
   "id": "223e14ed-1a42-4cf7-b5d6-0c4df8586116",
   "metadata": {},
   "source": [
    "Plotting this lightcurve as an example..."
   ]
  },
  {
   "cell_type": "code",
   "execution_count": 19,
   "id": "bf59ae39-d1a3-4a41-b640-dd5c54fa14b5",
   "metadata": {},
   "outputs": [
    {
     "data": {
      "text/plain": [
       "Text(0.5, 1.0, 'Lightcurves in OGLE-BLG-RRLYR-22182_multiband_lc.fits')"
      ]
     },
     "execution_count": 19,
     "metadata": {},
     "output_type": "execute_result"
    },
    {
     "data": {
      "image/png": "[encoded data removed]",
      "text/plain": [
       "<Figure size 1000x1000 with 1 Axes>"
      ]
     },
     "metadata": {},
     "output_type": "display_data"
    }
   ],
   "source": [
    "import matplotlib.pyplot as plt\n",
    "\n",
    "colors = {'V': '#016B7F', 'I': '#D0A401', 'H': '#7F0101', 'K': '#4d017f'}\n",
    "\n",
    "fig = plt.figure(1,(10,10))\n",
    "\n",
    "for lc_name, lc in lightcurves.items():\n",
    "    passband = lc_name.replace('LC_','').replace('0','').replace('1','').replace('2','')\n",
    "    col = colors[passband]\n",
    "    plt.errorbar(lc['HJD']-2450000.0, lc['mag'], yerr=lc['mag_error'],\n",
    "                    mfc=col, mec=col, fmt='.', label=lc_name)\n",
    "[xmin,xmax,ymin,ymax] = plt.axis()\n",
    "plt.axis([xmin,xmax,ymax,ymin])\n",
    "plt.xlabel('HJD - 2450000.0 [days]')\n",
    "plt.ylabel('Magnitude')\n",
    "plt.legend()\n",
    "plt.title('Lightcurves in ' + path.basename(file_path))"
   ]
  },
  {
   "cell_type": "code",
   "execution_count": null,
   "id": "00ef7b27-c585-4877-a468-3e489faeb6de",
   "metadata": {},
   "outputs": [],
   "source": []
  }
 ],
 "metadata": {
  "kernelspec": {
   "display_name": "Python 3 (ipykernel)",
   "language": "python",
   "name": "python3"
  },
  "language_info": {
   "codemirror_mode": {
    "name": "ipython",
    "version": 3
   },
   "file_extension": ".py",
   "mimetype": "text/x-python",
   "name": "python",
   "nbconvert_exporter": "python",
   "pygments_lexer": "ipython3",
   "version": "3.12.7"
  }
 },
 "nbformat": 4,
 "nbformat_minor": 5
}
